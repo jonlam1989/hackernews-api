{
 "cells": [
  {
   "cell_type": "code",
   "execution_count": 42,
   "metadata": {},
   "outputs": [],
   "source": [
    "import requests\n",
    "from pprint import pp \n",
    "from statistics import mean\n",
    "from datetime import datetime "
   ]
  },
  {
   "cell_type": "code",
   "execution_count": 2,
   "metadata": {},
   "outputs": [
    {
     "data": {
      "text/plain": [
       "34347114"
      ]
     },
     "execution_count": 2,
     "metadata": {},
     "output_type": "execute_result"
    }
   ],
   "source": [
    "# find the max number of items\n",
    "def get_max_items():\n",
    "    url = ' https://hacker-news.firebaseio.com/v0/maxitem.json?print=pretty'\n",
    "    data = requests.get(url)\n",
    "    response = data.json()\n",
    "\n",
    "    return response \n",
    "\n",
    "get_max_items()"
   ]
  },
  {
   "cell_type": "code",
   "execution_count": null,
   "metadata": {},
   "outputs": [],
   "source": [
    "# get the last 1000 items\n",
    "def get_items():\n",
    "    url = 'https://hacker-news.firebaseio.com/v0/item/'\n",
    "\n",
    "    items = []\n",
    "    for i in range(get_max_items()-999, get_max_items()+1):\n",
    "        data = requests.get(url+str(i)+'.json')\n",
    "        response = data.json()\n",
    "        \n",
    "        items.append(response)\n",
    "\n",
    "    return items \n",
    "\n",
    "all_items = get_items()\n",
    "all_items"
   ]
  },
  {
   "cell_type": "code",
   "execution_count": 28,
   "metadata": {},
   "outputs": [
    {
     "data": {
      "text/plain": [
       "[{'by': 'borroka',\n",
       "  'id': 34346950,\n",
       "  'parent': 34346860,\n",
       "  'text': '&gt; They&#x27;re not &quot;Veeps&quot;, they&#x27;re people who have an identity and existence without reference to their roles at Verily<p>The words used by HR from this and other companies clearly show that for the company, they are not people with an identity, existence or raison d&#x27;être other than providing some kind of service to the company. The invitation is to treat them accordingly.',\n",
       "  'time': 1673481666,\n",
       "  'type': 'comment'},\n",
       " {'by': 'borroka',\n",
       "  'id': 34347054,\n",
       "  'parent': 34346824,\n",
       "  'text': '&gt; I think that&#x27;s probably a natural tendency for any type of people...<p>I agree about the natural tendency, the call of the &quot;tribe&quot; (ethnic group, common language, etc.) is there for all kinds of people, more or less.\\nBut there is a difference, and I&#x27;m talking about frequency distributions of behaviors, not naive black and white: some groups of people are aware of these tendencies, and they act purposefully and conscientiously to counteract them; other groups, well, it&#x27;s hard to tell whether they are aware of these tendencies or not, but what is certain is that they don&#x27;t practice any countermeasure to a natural bias.<p>Now, for some ethnic groups or nations, it is quite forbidden to talk about any kind of &quot;tribal&quot; behavior that they exhibit. But if within Facebook or Google or Netflix or whatever there was a team led by a Bulgarian citizen with all Bulgarian members, some complaints about the oddity of the situation, I am sure, would be heard.',\n",
       "  'time': 1673482177,\n",
       "  'type': 'comment'},\n",
       " {'by': 'borroka',\n",
       "  'id': 34347114,\n",
       "  'parent': 34337616,\n",
       "  'text': 'Increased calorie consumption is the offender, there is little doubt about that. By carefully measuring food, one loses and gains weight accordingly (taking into account age, physical activity, etc.).<p>The social acceptability of being fat leads to psychologically easier consumption of calories. Personally, if it were not for the shame I would feel, I would eat 1 kg of ice cream every night. I have a great appetite, but also a great capacity for restraint.<p>The &quot;mysterious weight gain&quot; not explained by calories is, at this point, rather speculative.',\n",
       "  'time': 1673482536,\n",
       "  'type': 'comment'}]"
      ]
     },
     "execution_count": 28,
     "metadata": {},
     "output_type": "execute_result"
    }
   ],
   "source": [
    "# Write a function to display all the items written by a certain user\n",
    "def get_user_items(user_name):\n",
    "    all_user_items = []\n",
    "    for item in all_items:\n",
    "        try:\n",
    "            if item['by'] == user_name:\n",
    "                all_user_items.append(item)\n",
    "        except:\n",
    "            continue \n",
    "        \n",
    "    return all_user_items        \n",
    "        \n",
    "get_user_items('borroka')"
   ]
  },
  {
   "cell_type": "code",
   "execution_count": 32,
   "metadata": {},
   "outputs": [
    {
     "data": {
      "text/plain": [
       "4.083333333333333"
      ]
     },
     "execution_count": 32,
     "metadata": {},
     "output_type": "execute_result"
    }
   ],
   "source": [
    "# Write a function to display the average score of all items\n",
    "def avg_score_items():\n",
    "    scores = []\n",
    "    for item in all_items:\n",
    "        try:\n",
    "            scores.append(item['score'])\n",
    "        except:\n",
    "            continue\n",
    "    \n",
    "    # print(scores)\n",
    "    avg = mean(scores)\n",
    "    return avg\n",
    "\n",
    "avg_score_items()"
   ]
  },
  {
   "cell_type": "code",
   "execution_count": 8,
   "metadata": {},
   "outputs": [
    {
     "data": {
      "text/plain": [
       "3"
      ]
     },
     "execution_count": 8,
     "metadata": {},
     "output_type": "execute_result"
    }
   ],
   "source": [
    "# Write a function to display the average score of the items by a certain user\n",
    "def avg_score_user(user_name):\n",
    "    item_ids = get_user_items(user_name)\n",
    "    \n",
    "    scores = []\n",
    "    for item in item_ids:\n",
    "        try:\n",
    "            scores.append(item['score'])\n",
    "        except:\n",
    "            continue \n",
    "\n",
    "    if len(scores) == 0: \n",
    "        return 0\n",
    "    return mean(scores)\n",
    "\n",
    "avg_score_user('erehweb')"
   ]
  },
  {
   "cell_type": "code",
   "execution_count": 39,
   "metadata": {},
   "outputs": [
    {
     "name": "stdout",
     "output_type": "stream",
     "text": [
      "3 comments\n"
     ]
    },
    {
     "data": {
      "text/plain": [
       "['Like I said, it&#x27;s not a good title. It will get fixed.',\n",
       " 'Yeah yeah, but &quot;an Google&quot;?',\n",
       " 'It’s also breaking the guideline against editorialising in the title']"
      ]
     },
     "execution_count": 39,
     "metadata": {},
     "output_type": "execute_result"
    }
   ],
   "source": [
    "# Write a function to display all of the comments of an item(this is a more challenging task)\n",
    "# only did 1 level up and 1 level down\n",
    "# need to use recursion in order to get all levels\n",
    "def get_item(id):\n",
    "    for item in all_items:\n",
    "        if item['id'] == id:\n",
    "            return item\n",
    "#----------------------------------------------------\n",
    "def get_comments(id):\n",
    "    item = get_item(id)\n",
    "    \n",
    "    all_comments = []\n",
    "    try:\n",
    "        all_comments.append(item['text'])\n",
    "        all_comments.append(get_item(item['parent'])['text'])\n",
    "\n",
    "        for kid in item['kids']:\n",
    "            kid_item = get_item(kid)\n",
    "            all_comments.append(kid_item['text'])\n",
    "    except:\n",
    "        pass \n",
    "    \n",
    "    return all_comments\n",
    "    \n",
    "all_comments = get_comments(34347059)\n",
    "print(len(all_comments), 'comments')\n",
    "all_comments"
   ]
  },
  {
   "cell_type": "code",
   "execution_count": null,
   "metadata": {},
   "outputs": [],
   "source": [
    "# Write a function to display all of the items created in a certain year. \n",
    "# You can expand on this to add additional parameters: Month, Day, etc. \n",
    "# Any combo you choose or any single value\n",
    "from datetime import datetime \n",
    "\n",
    "def items_per_year(datepart, value):\n",
    "    items = []\n",
    "\n",
    "    for item in all_items:\n",
    "        if datepart == 'year':\n",
    "            item_year = datetime.fromtimestamp(item['time']).strftime('%Y')\n",
    "            if int(item_year) == value:\n",
    "                items.append(item)\n",
    "        \n",
    "        if datepart == 'month':\n",
    "            item_month = datetime.fromtimestamp(item['time']).strftime('%B')\n",
    "            if item_month == value:\n",
    "                items.append(item)\n",
    "\n",
    "        if datepart == 'day':\n",
    "            item_day = datetime.fromtimestamp(item['time']).strftime('%A')\n",
    "            if item_day == value:\n",
    "                items.append(item)\n",
    "\n",
    "    return items \n",
    "\n",
    "# items_per_year('year', 2023)\n",
    "# items_per_year('month', 'January')\n",
    "items_per_year('day', 'Wednesday')"
   ]
  },
  {
   "cell_type": "code",
   "execution_count": 24,
   "metadata": {},
   "outputs": [
    {
     "data": {
      "text/plain": [
       "32"
      ]
     },
     "execution_count": 24,
     "metadata": {},
     "output_type": "execute_result"
    }
   ],
   "source": [
    "# Write a function to display the total number of deleted items.\n",
    "def deleted_items():\n",
    "    count = 0\n",
    "\n",
    "    for item in all_items:\n",
    "        try:\n",
    "            if item['deleted'] == True:\n",
    "                count += 1\n",
    "        except:\n",
    "            continue \n",
    "\n",
    "    return count \n",
    "\n",
    "deleted_items()"
   ]
  },
  {
   "cell_type": "code",
   "execution_count": 25,
   "metadata": {},
   "outputs": [
    {
     "data": {
      "text/plain": [
       "974"
      ]
     },
     "execution_count": 25,
     "metadata": {},
     "output_type": "execute_result"
    }
   ],
   "source": [
    "# Write a function to display the total number of live items.\n",
    "def live_items():\n",
    "    count = 0\n",
    "\n",
    "    for item in all_items:\n",
    "        try:\n",
    "            if item['dead'] == True:\n",
    "                count += 1\n",
    "        except:\n",
    "            continue \n",
    "\n",
    "    return len(all_items) - count \n",
    "\n",
    "live_items()"
   ]
  },
  {
   "cell_type": "code",
   "execution_count": 37,
   "metadata": {},
   "outputs": [
    {
     "data": {
      "text/plain": [
       "{'by': 'idopmstuff',\n",
       " 'id': 34346486,\n",
       " 'kids': [34346589,\n",
       "  34346868,\n",
       "  34346501,\n",
       "  34346789,\n",
       "  34346521,\n",
       "  34346603,\n",
       "  34346989],\n",
       " 'parent': 34346218,\n",
       " 'text': 'As far as I can tell, layoffs seem concentrated among high-earning folks - I can definitely see how anyone browsing HN would think we&#x27;re headed straight for a recession. But it seems like overall, and especially in lower-wage jobs, employment is still humming along and people are very much not getting laid off.<p>That actually really gives me hope for a soft landing - those high-wage folks are much less likely to have serious financial problems like homes getting foreclosed (not to say it&#x27;s not possible but they&#x27;re much more likely to have a cushion to keep making payments). If they pull back on their discretionary spending plus stop doing things like driving up housing&#x2F;car&#x2F;stock prices by putting money into those things, that feels like it could be the basis for inflation slowing down without a huge uptick in unemployment and everything that comes with it.',\n",
       " 'time': 1673478992,\n",
       " 'type': 'comment'}"
      ]
     },
     "execution_count": 37,
     "metadata": {},
     "output_type": "execute_result"
    }
   ],
   "source": [
    "# Write a function to find which item has the most total comments\n",
    "def most_comments():\n",
    "    max_count = 0\n",
    "    max_item = {}\n",
    "\n",
    "    for item in all_items:\n",
    "        try:\n",
    "            all_comments = get_comments(item['id'])\n",
    "            \n",
    "            if len(all_comments) > max_count:\n",
    "                max_count = len(all_comments)\n",
    "                max_item = item\n",
    "        except:\n",
    "            continue\n",
    "\n",
    "    return max_item\n",
    "\n",
    "most_comments()        "
   ]
  },
  {
   "cell_type": "code",
   "execution_count": 40,
   "metadata": {},
   "outputs": [
    {
     "data": {
      "text/plain": [
       "'TeMPOraL'"
      ]
     },
     "execution_count": 40,
     "metadata": {},
     "output_type": "execute_result"
    }
   ],
   "source": [
    "# Write a function to find which user made the most comments.\n",
    "def user_with_most_comments():\n",
    "    max_count = 0\n",
    "    max_user = {}\n",
    "    \n",
    "    for item in all_items:\n",
    "        try:\n",
    "            count = len(get_user_items(item['by']))\n",
    "\n",
    "            if count > max_count:\n",
    "                max_count = count \n",
    "                max_user = item \n",
    "        except:\n",
    "            continue \n",
    "\n",
    "    return max_user['by']  \n",
    "\n",
    "user_with_most_comments()"
   ]
  },
  {
   "cell_type": "code",
   "execution_count": 43,
   "metadata": {},
   "outputs": [
    {
     "data": {
      "text/plain": [
       "'18:00'"
      ]
     },
     "execution_count": 43,
     "metadata": {},
     "output_type": "execute_result"
    }
   ],
   "source": [
    "# Write a function to see which hour of the day is the most common for a user to post an item\n",
    "def hour_of_day():\n",
    "    results = {}\n",
    "    for item in all_items:\n",
    "        item_hour = datetime.fromtimestamp(item['time']).strftime('%H')\n",
    "        \n",
    "        if item_hour in results:\n",
    "            results[item_hour] += 1\n",
    "        else:\n",
    "            results[item_hour] = 1\n",
    "\n",
    "    max_count = max(results.values())\n",
    "\n",
    "    for item in results:\n",
    "        if results[item] == max_count:\n",
    "            return f'{item}:00'\n",
    "\n",
    "hour_of_day()"
   ]
  }
 ],
 "metadata": {
  "kernelspec": {
   "display_name": "Python 3",
   "language": "python",
   "name": "python3"
  },
  "language_info": {
   "codemirror_mode": {
    "name": "ipython",
    "version": 3
   },
   "file_extension": ".py",
   "mimetype": "text/x-python",
   "name": "python",
   "nbconvert_exporter": "python",
   "pygments_lexer": "ipython3",
   "version": "3.11.0 (main, Oct 24 2022, 18:26:48) [MSC v.1933 64 bit (AMD64)]"
  },
  "orig_nbformat": 4,
  "vscode": {
   "interpreter": {
    "hash": "5238573367df39f7286bb46f9ff5f08f63a01a80960060ce41e3c79b190280fa"
   }
  }
 },
 "nbformat": 4,
 "nbformat_minor": 2
}
